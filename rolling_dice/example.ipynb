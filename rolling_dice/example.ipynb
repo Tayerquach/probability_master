{
 "cells": [
  {
   "cell_type": "markdown",
   "id": "600a0b56-7521-4c47-82ba-1f1dc7230c7d",
   "metadata": {},
   "source": [
    "# Import library and modules"
   ]
  },
  {
   "cell_type": "code",
   "execution_count": 6,
   "id": "b47ac854-29a1-4a2c-9813-2d1c4df07df4",
   "metadata": {},
   "outputs": [],
   "source": [
    "# Import module\n",
    "import matplotlib.pyplot as plt\n",
    "import seaborn as sns\n",
    "from dice_rolling import Dice"
   ]
  },
  {
   "cell_type": "markdown",
   "id": "cb1d7ef2-194d-432f-82f2-77a8911acac9",
   "metadata": {},
   "source": [
    "# Initialise variables and Dice object"
   ]
  },
  {
   "cell_type": "code",
   "execution_count": 2,
   "id": "536e3e62-ab75-4d81-89a4-54b0acc52bd1",
   "metadata": {},
   "outputs": [],
   "source": [
    "# Initialise parameters\n",
    "num_dice = 2 # The number of dice\n",
    "num_sides = 6 # The sides of our dice\n",
    "\n",
    "# Create Dice object\n",
    "roll = Dice(num_dice, num_sides)"
   ]
  },
  {
   "cell_type": "markdown",
   "id": "8ab8dadb-f96b-4f24-b252-bb8cabf6af94",
   "metadata": {},
   "source": [
    "# Dice roll simulation"
   ]
  },
  {
   "cell_type": "code",
   "execution_count": 3,
   "id": "b565b470-1395-45cb-b792-6022dfc9ca8a",
   "metadata": {},
   "outputs": [
    {
     "name": "stdout",
     "output_type": "stream",
     "text": [
      "┌─────────┐┌─────────┐\n",
      "│         ││  ●   ●  │\n",
      "│    ●    ││         │\n",
      "│         ││  ●   ●  │\n",
      "└─────────┘└─────────┘\n"
     ]
    }
   ],
   "source": [
    "# Roll Simulation\n",
    "roll.roll_random_dice()"
   ]
  },
  {
   "cell_type": "markdown",
   "id": "f48add55-0eaf-45e0-9c00-a31b5f853c42",
   "metadata": {},
   "source": [
    "# Dice Roll Probability"
   ]
  },
  {
   "cell_type": "code",
   "execution_count": 13,
   "id": "db89952e-9f20-4cd8-b262-fcaad2e16b49",
   "metadata": {},
   "outputs": [
    {
     "name": "stdout",
     "output_type": "stream",
     "text": [
      "OUTCOME PROBABILITY\n",
      "2\t2.79%\n",
      "3\t5.57%\n",
      "4\t8.30%\n",
      "5\t11.17%\n",
      "6\t13.88%\n",
      "7\t16.66%\n",
      "8\t13.85%\n",
      "9\t11.09%\n",
      "10\t8.34%\n",
      "11\t5.56%\n",
      "12\t2.78%\n"
     ]
    }
   ],
   "source": [
    "# Dice Roll Probability\n",
    "outcomes, probabilities = roll.get_dice_probability()\n",
    "probabilities = [round(probability, 2) for probability in probabilities]"
   ]
  },
  {
   "cell_type": "code",
   "execution_count": 24,
   "id": "24b4d106-bec5-4afd-8c93-b13e724b7cc5",
   "metadata": {},
   "outputs": [
    {
     "data": {
      "text/plain": [
       "[Text(0, 0, '2.79%'),\n",
       " Text(0, 0, '5.57%'),\n",
       " Text(0, 0, '8.3%'),\n",
       " Text(0, 0, '11.17%'),\n",
       " Text(0, 0, '13.88%'),\n",
       " Text(0, 0, '16.66%'),\n",
       " Text(0, 0, '13.85%'),\n",
       " Text(0, 0, '11.09%'),\n",
       " Text(0, 0, '8.34%'),\n",
       " Text(0, 0, '5.56%'),\n",
       " Text(0, 0, '2.78%')]"
      ]
     },
     "execution_count": 24,
     "metadata": {},
     "output_type": "execute_result"
    },
    {
     "data": {
      "image/png": "[encoded data removed]",
      "text/plain": [
       "<Figure size 800x500 with 1 Axes>"
      ]
     },
     "metadata": {},
     "output_type": "display_data"
    }
   ],
   "source": [
    "# plot data\n",
    "fig, ax = plt.subplots(figsize=(8, 5))\n",
    "sns.barplot(x=outcomes, y=probabilities, ax=ax)\n",
    "labels = [f'{probability}%' for probability in probabilities]\n",
    "# annotate\n",
    "ax.bar_label(ax.containers[0], labels=labels, label_type='edge')"
   ]
  },
  {
   "cell_type": "markdown",
   "id": "5984603a-6fcf-4071-b5e8-a0c075ed2a5b",
   "metadata": {},
   "source": [
    "# Probability of rolling a sum of #value"
   ]
  },
  {
   "cell_type": "code",
   "execution_count": 25,
   "id": "4cbbc11d-962c-4d03-95a5-af1423bda99d",
   "metadata": {},
   "outputs": [
    {
     "name": "stdout",
     "output_type": "stream",
     "text": [
      "┌─────────┐┌─────────┐\n",
      "│  ●   ●  ││  ●   ●  │\n",
      "│    ●    ││  ●   ●  │\n",
      "│  ●   ●  ││  ●   ●  │\n",
      "└─────────┘└─────────┘\n",
      "┌─────────┐┌─────────┐\n",
      "│  ●   ●  ││  ●   ●  │\n",
      "│  ●   ●  ││    ●    │\n",
      "│  ●   ●  ││  ●   ●  │\n",
      "└─────────┘└─────────┘\n",
      "The probability of getting a sum of 11 when rolling 2 dice is: 5.56%\n"
     ]
    }
   ],
   "source": [
    "# the probability of rolling a sum of 11\n",
    "total = 11\n",
    "roll.get_sum_probability(total)"
   ]
  },
  {
   "cell_type": "code",
   "execution_count": null,
   "id": "87f4060a-5b89-4e16-a49e-eb3fa6245f62",
   "metadata": {},
   "outputs": [],
   "source": []
  }
 ],
 "metadata": {
  "kernelspec": {
   "display_name": "Python 3 (ipykernel)",
   "language": "python",
   "name": "python3"
  },
  "language_info": {
   "codemirror_mode": {
    "name": "ipython",
    "version": 3
   },
   "file_extension": ".py",
   "mimetype": "text/x-python",
   "name": "python",
   "nbconvert_exporter": "python",
   "pygments_lexer": "ipython3",
   "version": "3.10.9"
  }
 },
 "nbformat": 4,
 "nbformat_minor": 5
}
