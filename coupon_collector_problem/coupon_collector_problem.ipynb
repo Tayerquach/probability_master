{
 "cells": [
  {
   "cell_type": "markdown",
   "id": "dc861db6-e925-40f6-9497-0fe25f737981",
   "metadata": {},
   "source": [
    "<div class=\"alert alert-block alert-success\">\n",
    "<h1>Coupon Collector's Problem</h1>\n",
    "</div>"
   ]
  },
  {
   "cell_type": "markdown",
   "id": "df3d936d-455d-4e62-9ebb-0d635bfbfc71",
   "metadata": {},
   "source": [
    "# Import library and necessary modules"
   ]
  },
  {
   "cell_type": "code",
   "execution_count": 46,
   "id": "19647c0d-26ba-49fb-a7b7-cdc24d78dc73",
   "metadata": {},
   "outputs": [],
   "source": [
    "from ipywidgets import *\n",
    "import numpy as np\n",
    "import matplotlib.pyplot as plt\n",
    "from matplotlib.widgets import Slider\n",
    "import random\n",
    "import ipywidgets as widgets\n",
    "from ipywidgets import interact\n",
    "from tqdm import tqdm\n",
    "import gif\n",
    "%matplotlib inline"
   ]
  },
  {
   "cell_type": "markdown",
   "id": "cbd96a36-bb14-4bd4-a8b7-bec41ee85c55",
   "metadata": {},
   "source": [
    "# Functions"
   ]
  },
  {
   "cell_type": "code",
   "execution_count": 47,
   "id": "1881d054-e96c-4d85-8f91-3f9ab895314a",
   "metadata": {},
   "outputs": [],
   "source": [
    "def create_simulations(no_distinct_coupons, run_times):\n",
    "    \"\"\"\n",
    "    Implementation logic: \n",
    "    For each simulation, we will record the number of rolls until all values (coupons) have been seen. \n",
    "    We will make N simulations and store the number of 'draws'.\n",
    "    \n",
    "    Parameters:\n",
    "    no_distinct_coupons: number of different coupons\n",
    "    run_times: the number of running times\n",
    "    \n",
    "    Return: times it took to achieve such goal\n",
    "    \"\"\"\n",
    "    \n",
    "    simulations = []\n",
    "    coupons = range(no_distinct_coupons)\n",
    "\n",
    "    for i in range(run_times):\n",
    "        coupons_gathered = set()\n",
    "        length = 0\n",
    "\n",
    "        while len(coupons_gathered)<no_distinct_coupons:\n",
    "            current_coupon = random.choice(coupons)\n",
    "            coupons_gathered.update([current_coupon])\n",
    "            length+=1\n",
    "\n",
    "        simulations.append(length)\n",
    "        \n",
    "    return simulations"
   ]
  },
  {
   "cell_type": "code",
   "execution_count": 48,
   "id": "3b2668c8-0951-4568-92a0-6360c80d7d54",
   "metadata": {},
   "outputs": [],
   "source": [
    "def create_statistics_after_n_simulations(simulations):\n",
    "    \"\"\"\n",
    "    Implementation logic: \n",
    "    After n simulations, we will record the statistical values - min, max, average - until we finish N simulations.\n",
    "    \n",
    "    Parameters:\n",
    "    simulations: the set of simulation's results\n",
    "    \n",
    "    Return: statistical values\n",
    "    \"\"\"\n",
    "    \n",
    "    minimum_values = []\n",
    "    maximum_values = []\n",
    "    average_values = []\n",
    "\n",
    "    total = 0  # Initialize the total for calculating the average\n",
    "\n",
    "    for i, value in enumerate(simulations):\n",
    "        total += value  # Update the total for the average\n",
    "        current_sublist = simulations[:i + 1]  # Extract the sublist up to the current element\n",
    "\n",
    "        minimum_values.append(min(current_sublist))  # Calculate and append the minimum value\n",
    "        maximum_values.append(max(current_sublist))  # Calculate and append the maximum value\n",
    "        average_values.append(int(total / (i + 1)))  # Calculate and append the average value\n",
    "    \n",
    "    return minimum_values, maximum_values, average_values"
   ]
  },
  {
   "cell_type": "markdown",
   "id": "b73d8a47-017d-4555-b8f5-0bb25ce69f58",
   "metadata": {},
   "source": [
    "# Variables"
   ]
  },
  {
   "cell_type": "code",
   "execution_count": 49,
   "id": "87d3d529-66b8-4e36-9aad-3aad591db50a",
   "metadata": {},
   "outputs": [],
   "source": [
    "run_times = 10000 # Number of simulations\n",
    "no_distinct_coupons = 100 # Number of unique coupons"
   ]
  },
  {
   "cell_type": "markdown",
   "id": "437bc5fd-3b0c-4cfd-bd97-04b7041188db",
   "metadata": {},
   "source": [
    "<div class=\"alert alert-info\">\n",
    "  <h1>Visualisation</h1>\n",
    "</div>"
   ]
  },
  {
   "cell_type": "markdown",
   "id": "3635dbfa-325f-4411-a6ba-ca8512c1d765",
   "metadata": {},
   "source": [
    "## Interactive Visualisation"
   ]
  },
  {
   "cell_type": "code",
   "execution_count": 50,
   "id": "bcfa23da-5fab-446a-9257-81f1684115c3",
   "metadata": {},
   "outputs": [],
   "source": [
    "# Parameters for the visualisation\n",
    "value_increment = 1\n",
    "values = np.arange(0, 2000, 300)\n",
    "columns = ['Min', 'Max', 'Avg']\n",
    "\n",
    "def plot_func(run_times):\n",
    " \n",
    "    cell_text = cell_texts[run_times - 1]\n",
    "    \n",
    "    #Plot the bar plot for three values: min, max, and average\n",
    "    plt.bar(range(len(cell_text)), cell_text, color='royalblue', alpha=0.7)\n",
    "    plt.grid(color='#95a5a6', linestyle='--', linewidth=2, axis='y', alpha=0.7)\n",
    "    \n",
    "\n",
    "    # Add a table at the bottom of the axes\n",
    "    plt.table(cellText=[cell_text],\n",
    "                          colLabels=columns,\n",
    "                          loc='bottom')\n",
    "    \n",
    "    # Adjust layout to make room for the table:\n",
    "    plt.subplots_adjust(left=0.2, bottom=0.1)\n",
    "\n",
    "    plt.ylabel(f\"Times\")\n",
    "    plt.yticks(values * value_increment, ['%d' % val for val in values])\n",
    "    plt.xticks([])\n",
    "    plt.title(f'Coupons Collector Problem N = {no_distinct_coupons} \\n')\n",
    "    \n",
    "\n",
    "    plt.show()"
   ]
  },
  {
   "cell_type": "code",
   "execution_count": 51,
   "id": "831630f2-3952-4042-8083-7ffd2aaec75b",
   "metadata": {
    "scrolled": true
   },
   "outputs": [
    {
     "data": {
      "image/png": "[encoded data removed]",
      "text/plain": [
       "<Figure size 640x480 with 1 Axes>"
      ]
     },
     "metadata": {},
     "output_type": "display_data"
    },
    {
     "data": {
      "application/vnd.jupyter.widget-view+json": {
       "model_id": "577e646f6bf34c51a95f354f544c3a34",
       "version_major": 2,
       "version_minor": 0
      },
      "text/plain": [
       "interactive(children=(IntSlider(value=5, description='run_times', max=10000, step=5), Output()), _dom_classes=…"
      ]
     },
     "metadata": {},
     "output_type": "display_data"
    },
    {
     "data": {
      "text/plain": [
       "<function __main__.plot_func(run_times)>"
      ]
     },
     "execution_count": 51,
     "metadata": {},
     "output_type": "execute_result"
    }
   ],
   "source": [
    "# Create 10,000 simulations and get the results\n",
    "simulations = create_simulations(no_distinct_coupons, run_times)\n",
    "\n",
    "# Record all statistical values after 1, 2, 3 ..., n-1, n simulations\n",
    "minimum_values, maximum_values, average_values = create_statistics_after_n_simulations(simulations)\n",
    "\n",
    "# Setup parameters for the visualisation\n",
    "cell_texts = list(zip(minimum_values, maximum_values, average_values))\n",
    "\n",
    "# Run the interactive visualisation\n",
    "cell_texts = list(zip(minimum_values, maximum_values, average_values))\n",
    "interact(plot_func, run_times = widgets.IntSlider(value=5, min=0, max=10000,step=5))"
   ]
  },
  {
   "cell_type": "markdown",
   "id": "5d99f6f6-9e40-4dbf-81f4-9d18b373a27a",
   "metadata": {},
   "source": [
    "## Animated Visualisation"
   ]
  },
  {
   "cell_type": "code",
   "execution_count": 14,
   "id": "18d387fa-8d01-4127-8954-f7a4d63b13ae",
   "metadata": {},
   "outputs": [
    {
     "name": "stderr",
     "output_type": "stream",
     "text": [
      "100%|██████████████████████████████████████████████████████████████████████████████████████████████████████████████████████████████████████████████████████| 100/100 [00:18<00:00,  5.31it/s]\n"
     ]
    }
   ],
   "source": [
    "@gif.frame\n",
    "def plot(run_no):\n",
    "    \n",
    "    #Plot the bar plot for three values: min, max, and average\n",
    "    cell_text = cell_texts[run_no - 1]\n",
    "    plt.bar(range(len(cell_text)), cell_text, color='royalblue', alpha=0.7)\n",
    "    plt.grid(color='#95a5a6', linestyle='--', linewidth=2, axis='y', alpha=0.7)\n",
    "\n",
    "    # Add a table at the bottom of the axes\n",
    "    the_table = plt.table(cellText=[cell_text],\n",
    "                          colLabels=columns,\n",
    "                          loc='bottom')\n",
    "    the_table.scale(1,3)\n",
    "    \n",
    "    # Adjust layout to make room for the table:\n",
    "    plt.subplots_adjust(left=0.2, bottom=0.1)\n",
    "    plt.ylabel(f\"Times\")\n",
    "    plt.yticks(values * value_increment, ['%d' % val for val in values])\n",
    "    plt.xticks([])\n",
    "    plt.title(f'Coupons Collector Problem N = {no_distinct_coupons}')\n",
    "    \n",
    "    # adjusting the main plot to make space for our sliders\n",
    "    plt.subplots_adjust(left=0.25, bottom=0.25)\n",
    "    \n",
    "    axcolor = 'lightgoldenrodyellow'\n",
    "    axrun = plt.axes([0.1, 0.25, 0.0225, 0.63], facecolor=axcolor, )\n",
    "    IntSlider(axrun, 'Times', 0, run_times, valinit=run_no, valstep = 1, orientation=\"vertical\")\n",
    "    \n",
    "\n",
    "frames = []\n",
    "durations = []\n",
    "\n",
    "for run_no in tqdm(range(run_times)):\n",
    "    frame = plot(run_no)\n",
    "    frames.append(frame)\n",
    "    durations.append(1)\n",
    "    if run_no == run_times - 1:\n",
    "        durations.append(100)\n",
    "\n",
    "gif.save(frames, f\"{no_distinct_coupons}_coupons_with_{run_times}_simulations.gif\", duration=durations)"
   ]
  },
  {
   "cell_type": "code",
   "execution_count": null,
   "id": "bc28995b-e984-4bfd-bdcb-0246a50acd2c",
   "metadata": {},
   "outputs": [],
   "source": []
  }
 ],
 "metadata": {
  "kernelspec": {
   "display_name": "Python 3 (ipykernel)",
   "language": "python",
   "name": "python3"
  },
  "language_info": {
   "codemirror_mode": {
    "name": "ipython",
    "version": 3
   },
   "file_extension": ".py",
   "mimetype": "text/x-python",
   "name": "python",
   "nbconvert_exporter": "python",
   "pygments_lexer": "ipython3",
   "version": "3.10.9"
  }
 },
 "nbformat": 4,
 "nbformat_minor": 5
}
